{
 "cells": [
  {
   "cell_type": "code",
   "execution_count": null,
   "id": "439d8546",
   "metadata": {
    "pycharm": {
     "name": "#%%\n",
     "is_executing": true
    }
   },
   "outputs": [],
   "source": [
    "import matplotlib.pyplot as plt\n",
    "import numpy as np\n",
    "import torch\n",
    "from scipy.io import savemat\n",
    "import math\n",
    "from loading_real_wave_noise import loading_real_wave_noise\n",
    "from Reading_path_test import loading_paths_from_MAT\n",
    "from Control_filter_selection import Control_filter_selection\n",
    "from FxNLMS_algorithm import FxNLMS, train_fxnlms_algorithm\n",
    "from Disturbance_generation import Disturbance_generation_from_real_noise\n",
    "from Combine_SFANC_with_FxNLMS import SFANC_FxNLMS\n",
    "\n",
    "print(torch.cuda.is_available())"
   ]
  },
  {
   "cell_type": "code",
   "execution_count": null,
   "id": "874b6677",
   "metadata": {
    "pycharm": {
     "name": "#%%\n"
    }
   },
   "outputs": [],
   "source": [
    "# real noises\n",
    "fs = 16000\n",
    "StepSize = 0.0001\n",
    "sound_name = 'Traffic'\n",
    "waveform, resample_rate = loading_real_wave_noise(folde_name='Real Noise Examples/', sound_name=sound_name+'.wav')\n",
    "print('yeap')"
   ]
  },
  {
   "cell_type": "code",
   "execution_count": null,
   "id": "1e401820",
   "metadata": {
    "pycharm": {
     "name": "#%%\n"
    }
   },
   "outputs": [],
   "source": [
    "# Pri_path, Secon_path = loading_paths_from_MAT(folder='Pz and Sz', subfolder='Dongyuan', Pri_path_file_name='Primary_path.mat', Sec_path_file_name='Secondary_path.mat')\n",
    "Pri_path, Secon_path = loading_paths_from_MAT(folder='C:\\PycharmProjects\\SFANC-FxNLMS-ANC-Algorithm-based-on-Deep-Learning-main', subfolder='Primary and Secondary Path',Pri_path_file_name='Primary_path.mat', Sec_path_file_name='Secondary_path.mat')\n",
    "Dis, Fx, Re = Disturbance_generation_from_real_noise(fs=fs, Repet=0, wave_form=waveform, Pri_path=Pri_path, Sec_path=Secon_path)\n",
    "# Dis: disturbance (cotrolled noise)， Fx: fixed-x signal, Re: repeated waveform (primary_noise) Repetition=Repet+1\n",
    "print('yeap')"
   ]
  },
  {
   "cell_type": "code",
   "execution_count": null,
   "id": "03b8b87b",
   "metadata": {
    "pycharm": {
     "name": "#%%\n"
    }
   },
   "outputs": [],
   "source": [
    "print(waveform.shape)\n",
    "print(Re.shape)\n",
    "print(Dis.shape)\n",
    "\n",
    "import matplotlib as mpl\n",
    "mpl.rcParams['agg.path.chunksize'] = 10000"
   ]
  },
  {
   "cell_type": "code",
   "execution_count": null,
   "id": "8b1b9eb8",
   "metadata": {
    "pycharm": {
     "name": "#%%\n"
    }
   },
   "outputs": [],
   "source": [
    "from sqlite3 import Time\n",
    "\n",
    "# FxNLMS\n",
    "\n",
    "controller = FxNLMS(Len=1024) # 1024 is the same size of coeffient vector of fixed-filter\n",
    "ErrorFxNLMS = train_fxnlms_algorithm(Model=controller, Ref=Fx, Disturbance=Dis, Stepsize=StepSize)\n",
    "\n",
    "plt.title('The FxNLMS Algorithm')\n",
    "plt.plot(Time, Dis, color='blue', label='ANC off')\n",
    "plt.plot(Time, ErrorFxNLMS, color='green', label='ANC on')\n",
    "plt.ylabel('Magnitude')\n",
    "plt.xlabel('Time (seconds)')\n",
    "plt.legend()\n",
    "plt.grid()\n",
    "plt.savefig('FxNLMS.pdf', dpi=600, bbox_inches='tight', pad_inches=0)\n",
    "plt.show()"
   ]
  },
  {
   "cell_type": "code",
   "execution_count": null,
   "outputs": [],
   "source": [
    "# Combine SFANC with FxNLMS\n",
    "\n",
    "# prediction index\n",
    "id_vector = Control_filter_selection(fs=16000, Primary_noise=Re.unsqueeze(0)) # Primary_noise: torch.Size([1, XX])\n",
    "print(id_vector)\n",
    "\n",
    "# Using prediction index in SFANC_FxNLMS\n",
    "FILE_NAME_PATH = 'Trained models/Pretrained_Control_filters.mat'\n",
    "SFANC_FxNLMS_Cancellation = SFANC_FxNLMS(MAT_FILE=FILE_NAME_PATH, fs=16000)\n",
    "Error_SFANC_FxNLMS = SFANC_FxNLMS_Cancellation.noise_cancellation(Dis=Dis, Fx=Fx, filter_index=id_vector, Stepsize=StepSize)\n",
    "\n",
    "plt.title('The Hybrid SFANC-FxNLMS Algorithm')\n",
    "plt.plot(Time, Dis, color='blue', label='ANC off')\n",
    "plt.plot(Time, Error_SFANC_FxNLMS, color='red', label='ANC on')\n",
    "plt.ylabel('Magnitude')\n",
    "plt.xlabel('Time (seconds)')\n",
    "plt.legend()\n",
    "plt.grid()\n",
    "plt.savefig('SFANC_FxNLMS.pdf', dpi=600, bbox_inches='tight', pad_inches=0)\n",
    "plt.show()"
   ],
   "metadata": {
    "collapsed": false,
    "pycharm": {
     "name": "#%%\n"
    }
   }
  },
  {
   "cell_type": "code",
   "execution_count": null,
   "outputs": [],
   "source": [],
   "metadata": {
    "collapsed": false,
    "pycharm": {
     "name": "#%%\n"
    }
   }
  }
 ],
 "metadata": {
  "kernelspec": {
   "display_name": "Python 3 (ipykernel)",
   "language": "python",
   "name": "python3"
  },
  "language_info": {
   "codemirror_mode": {
    "name": "ipython",
    "version": 3
   },
   "file_extension": ".py",
   "mimetype": "text/x-python",
   "name": "python",
   "nbconvert_exporter": "python",
   "pygments_lexer": "ipython3",
   "version": "3.9.7"
  }
 },
 "nbformat": 4,
 "nbformat_minor": 5
}