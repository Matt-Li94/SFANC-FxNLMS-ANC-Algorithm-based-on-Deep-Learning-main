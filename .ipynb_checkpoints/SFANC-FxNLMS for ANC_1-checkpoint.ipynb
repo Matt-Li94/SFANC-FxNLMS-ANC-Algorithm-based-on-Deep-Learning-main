{
 "cells": [
  {
   "cell_type": "code",
   "execution_count": 9,
   "id": "439d8546",
   "metadata": {
    "pycharm": {
     "is_executing": true,
     "name": "#%%\n"
    }
   },
   "outputs": [
    {
     "ename": "AttributeError",
     "evalue": "partially initialized module 'torchaudio' has no attribute 'lib' (most likely due to a circular import)",
     "output_type": "error",
     "traceback": [
      "\u001B[1;31m---------------------------------------------------------------------------\u001B[0m",
      "\u001B[1;31mAttributeError\u001B[0m                            Traceback (most recent call last)",
      "Cell \u001B[1;32mIn[9], line 6\u001B[0m\n\u001B[0;32m      4\u001B[0m \u001B[38;5;28;01mfrom\u001B[39;00m \u001B[38;5;21;01mscipy\u001B[39;00m\u001B[38;5;21;01m.\u001B[39;00m\u001B[38;5;21;01mio\u001B[39;00m \u001B[38;5;28;01mimport\u001B[39;00m savemat\n\u001B[0;32m      5\u001B[0m \u001B[38;5;28;01mimport\u001B[39;00m \u001B[38;5;21;01mmath\u001B[39;00m\n\u001B[1;32m----> 6\u001B[0m \u001B[38;5;28;01mfrom\u001B[39;00m \u001B[38;5;21;01mloading_real_wave_noise\u001B[39;00m \u001B[38;5;28;01mimport\u001B[39;00m loading_real_wave_noise\n\u001B[0;32m      7\u001B[0m \u001B[38;5;28;01mfrom\u001B[39;00m \u001B[38;5;21;01mReading_path_test\u001B[39;00m \u001B[38;5;28;01mimport\u001B[39;00m loading_paths_from_MAT\n\u001B[0;32m      8\u001B[0m \u001B[38;5;28;01mfrom\u001B[39;00m \u001B[38;5;21;01mControl_filter_selection\u001B[39;00m \u001B[38;5;28;01mimport\u001B[39;00m Control_filter_selection\n",
      "File \u001B[1;32mC:\\PycharmProjects\\SFANC-FxNLMS-ANC-Algorithm-based-on-Deep-Learning-main\\loading_real_wave_noise.py:3\u001B[0m\n\u001B[0;32m      1\u001B[0m \u001B[38;5;28;01mimport\u001B[39;00m \u001B[38;5;21;01mos\u001B[39;00m \n\u001B[0;32m      2\u001B[0m \u001B[38;5;28;01mimport\u001B[39;00m \u001B[38;5;21;01mtorch\u001B[39;00m\n\u001B[1;32m----> 3\u001B[0m \u001B[38;5;28;01mimport\u001B[39;00m \u001B[38;5;21;01mtorchaudio\u001B[39;00m\n\u001B[0;32m      4\u001B[0m \u001B[38;5;28;01mimport\u001B[39;00m \u001B[38;5;21;01mtorchaudio\u001B[39;00m\u001B[38;5;21;01m.\u001B[39;00m\u001B[38;5;21;01mtransforms\u001B[39;00m \u001B[38;5;28;01mas\u001B[39;00m \u001B[38;5;21;01mT\u001B[39;00m\n\u001B[0;32m      5\u001B[0m \u001B[38;5;28;01mimport\u001B[39;00m \u001B[38;5;21;01mmatplotlib\u001B[39;00m\u001B[38;5;21;01m.\u001B[39;00m\u001B[38;5;21;01mpyplot\u001B[39;00m \u001B[38;5;28;01mas\u001B[39;00m \u001B[38;5;21;01mplt\u001B[39;00m\n",
      "File \u001B[1;32mC:\\python39\\lib\\site-packages\\torchaudio\\__init__.py:1\u001B[0m\n\u001B[1;32m----> 1\u001B[0m \u001B[38;5;28;01mfrom\u001B[39;00m \u001B[38;5;21;01mtorchaudio\u001B[39;00m \u001B[38;5;28;01mimport\u001B[39;00m (  \u001B[38;5;66;03m# noqa: F401\u001B[39;00m\n\u001B[0;32m      2\u001B[0m     _extension,\n\u001B[0;32m      3\u001B[0m     compliance,\n\u001B[0;32m      4\u001B[0m     datasets,\n\u001B[0;32m      5\u001B[0m     functional,\n\u001B[0;32m      6\u001B[0m     io,\n\u001B[0;32m      7\u001B[0m     kaldi_io,\n\u001B[0;32m      8\u001B[0m     models,\n\u001B[0;32m      9\u001B[0m     pipelines,\n\u001B[0;32m     10\u001B[0m     sox_effects,\n\u001B[0;32m     11\u001B[0m     transforms,\n\u001B[0;32m     12\u001B[0m     utils,\n\u001B[0;32m     13\u001B[0m )\n\u001B[0;32m     15\u001B[0m \u001B[38;5;28;01mfrom\u001B[39;00m \u001B[38;5;21;01mtorchaudio\u001B[39;00m\u001B[38;5;21;01m.\u001B[39;00m\u001B[38;5;21;01mbackend\u001B[39;00m \u001B[38;5;28;01mimport\u001B[39;00m get_audio_backend, list_audio_backends, set_audio_backend\n\u001B[0;32m     17\u001B[0m \u001B[38;5;28;01mtry\u001B[39;00m:\n",
      "File \u001B[1;32mC:\\python39\\lib\\site-packages\\torchaudio\\_extension\\__init__.py:49\u001B[0m\n\u001B[0;32m     46\u001B[0m     \u001B[38;5;28;01mimport\u001B[39;00m \u001B[38;5;21;01mtorchaudio\u001B[39;00m\u001B[38;5;21;01m.\u001B[39;00m\u001B[38;5;21;01mlib\u001B[39;00m\u001B[38;5;21;01m.\u001B[39;00m\u001B[38;5;21;01m_torchaudio\u001B[39;00m  \u001B[38;5;66;03m# noqa\u001B[39;00m\n\u001B[0;32m     48\u001B[0m     _check_cuda_version()\n\u001B[1;32m---> 49\u001B[0m     _IS_RIR_AVAILABLE \u001B[38;5;241m=\u001B[39m \u001B[43mtorchaudio\u001B[49m\u001B[38;5;241;43m.\u001B[39;49m\u001B[43mlib\u001B[49m\u001B[38;5;241m.\u001B[39m_torchaudio\u001B[38;5;241m.\u001B[39mis_rir_available()\n\u001B[0;32m     50\u001B[0m     _IS_KALDI_AVAILABLE \u001B[38;5;241m=\u001B[39m torchaudio\u001B[38;5;241m.\u001B[39mlib\u001B[38;5;241m.\u001B[39m_torchaudio\u001B[38;5;241m.\u001B[39mis_kaldi_available()\n\u001B[0;32m     53\u001B[0m \u001B[38;5;66;03m# Similar to libtorchaudio, sox-related features should be importable when present.\u001B[39;00m\n\u001B[0;32m     54\u001B[0m \u001B[38;5;66;03m#\u001B[39;00m\n\u001B[0;32m     55\u001B[0m \u001B[38;5;66;03m# Note: This will be change in the future when sox is dynamically linked.\u001B[39;00m\n\u001B[0;32m     56\u001B[0m \u001B[38;5;66;03m# At that point, this initialization should handle the case where\u001B[39;00m\n\u001B[0;32m     57\u001B[0m \u001B[38;5;66;03m# sox integration is built but libsox is not found.\u001B[39;00m\n",
      "\u001B[1;31mAttributeError\u001B[0m: partially initialized module 'torchaudio' has no attribute 'lib' (most likely due to a circular import)"
     ]
    }
   ],
   "source": [
    "import matplotlib.pyplot as plt\n",
    "import numpy as np\n",
    "import torch\n",
    "from scipy.io import savemat\n",
    "import math\n",
    "from loading_real_wave_noise import loading_real_wave_noise\n",
    "from Reading_path_test import loading_paths_from_MAT\n",
    "from Control_filter_selection import Control_filter_selection\n",
    "from FxNLMS_algorithm import FxNLMS, train_fxnlms_algorithm\n",
    "from Disturbance_generation import Disturbance_generation_from_real_noise\n",
    "from Combine_SFANC_with_FxNLMS import SFANC_FxNLMS\n",
    "\n",
    "print(torch.cuda.is_available())"
   ]
  },
  {
   "cell_type": "code",
   "execution_count": null,
   "id": "874b6677",
   "metadata": {
    "pycharm": {
     "name": "#%%\n"
    }
   },
   "outputs": [],
   "source": [
    "# real noises\n",
    "fs = 16000\n",
    "StepSize = 0.0001\n",
    "sound_name = 'Mix_Aircraft_Traffic'\n",
    "waveform, resample_rate = loading_real_wave_noise(folde_name='Real Noise Examples/', sound_name=sound_name+'.wav')"
   ]
  },
  {
   "cell_type": "code",
   "execution_count": null,
   "id": "1e401820",
   "metadata": {
    "pycharm": {
     "name": "#%%\n"
    }
   },
   "outputs": [],
   "source": [
    "Pri_path, Secon_path = loading_paths_from_MAT(folder='Pz and Sz', subfolder='Dongyuan', Pri_path_file_name='Primary_path.mat', Sec_path_file_name='Secondary_path.mat')\n",
    "Dis, Fx, Re = Disturbance_generation_from_real_noise(fs=fs, Repet=0, wave_form=waveform, Pri_path=Pri_path, Sec_path=Secon_path)\n",
    "# Dis: disturbance (cotrolled noise)， Fx: fixed-x signal, Re: repeated waveform (primary_noise) Repetition=Repet+1"
   ]
  },
  {
   "cell_type": "code",
   "execution_count": null,
   "id": "03b8b87b",
   "metadata": {
    "pycharm": {
     "name": "#%%\n"
    }
   },
   "outputs": [],
   "source": [
    "print(waveform.shape)\n",
    "print(Re.shape)\n",
    "print(Dis.shape)\n",
    "\n",
    "import matplotlib as mpl\n",
    "mpl.rcParams['agg.path.chunksize'] = 10000"
   ]
  },
  {
   "cell_type": "code",
   "execution_count": null,
   "id": "8b1b9eb8",
   "metadata": {
    "pycharm": {
     "name": "#%%\n"
    }
   },
   "outputs": [],
   "source": [
    "from sqlite3 import Time\n",
    "\n",
    "# FxNLMS\n",
    "\n",
    "controller = FxNLMS(Len=1024) # 1024 is the same size of coeffient vector of fixed-filter\n",
    "ErrorFxNLMS = train_fxnlms_algorithm(Model=controller, Ref=Fx, Disturbance=Dis, Stepsize=StepSize)\n",
    "\n",
    "plt.title('The FxNLMS Algorithm')\n",
    "plt.plot(Time, Dis, color='blue', label='ANC off')\n",
    "plt.plot(Time, ErrorFxNLMS, color='green', label='ANC on')\n",
    "plt.ylabel('Magnitude')\n",
    "plt.xlabel('Time (seconds)')\n",
    "plt.legend()\n",
    "plt.grid()\n",
    "plt.savefig('FxNLMS.pdf', dpi=600, bbox_inches='tight', pad_inches=0)\n",
    "plt.show()"
   ]
  },
  {
   "cell_type": "code",
   "execution_count": null,
   "id": "6db2cbf1",
   "metadata": {
    "collapsed": false,
    "jupyter": {
     "outputs_hidden": false
    },
    "pycharm": {
     "name": "#%%\n"
    }
   },
   "outputs": [],
   "source": [
    "# Combine SFANC with FxNLMS\n",
    "\n",
    "# prediction index\n",
    "id_vector = Control_filter_selection(fs=16000, Primary_noise=Re.unsqueeze(0)) # Primary_noise: torch.Size([1, XX])\n",
    "print(id_vector)\n",
    "\n",
    "# Using prediction index in SFANC_FxNLMS\n",
    "FILE_NAME_PATH = 'Trained models/Pretrained_Control_filters.mat'\n",
    "SFANC_FxNLMS_Cancellation = SFANC_FxNLMS(MAT_FILE=FILE_NAME_PATH, fs=16000)\n",
    "Error_SFANC_FxNLMS = SFANC_FxNLMS_Cancellation.noise_cancellation(Dis=Dis, Fx=Fx, filter_index=id_vector, Stepsize=StepSize)\n",
    "\n",
    "plt.title('The Hybrid SFANC-FxNLMS Algorithm')\n",
    "plt.plot(Time, Dis, color='blue', label='ANC off')\n",
    "plt.plot(Time, Error_SFANC_FxNLMS, color='red', label='ANC on')\n",
    "plt.ylabel('Magnitude')\n",
    "plt.xlabel('Time (seconds)')\n",
    "plt.legend()\n",
    "plt.grid()\n",
    "plt.savefig('SFANC_FxNLMS.pdf', dpi=600, bbox_inches='tight', pad_inches=0)\n",
    "plt.show()"
   ]
  },
  {
   "cell_type": "code",
   "execution_count": null,
   "id": "07185cda",
   "metadata": {
    "collapsed": false,
    "jupyter": {
     "outputs_hidden": false
    },
    "pycharm": {
     "name": "#%%\n"
    }
   },
   "outputs": [],
   "source": []
  }
 ],
 "metadata": {
  "kernelspec": {
   "display_name": "Python 3 (ipykernel)",
   "language": "python",
   "name": "python3"
  },
  "language_info": {
   "codemirror_mode": {
    "name": "ipython",
    "version": 3
   },
   "file_extension": ".py",
   "mimetype": "text/x-python",
   "name": "python",
   "nbconvert_exporter": "python",
   "pygments_lexer": "ipython3",
   "version": "3.9.0"
  }
 },
 "nbformat": 4,
 "nbformat_minor": 5
}